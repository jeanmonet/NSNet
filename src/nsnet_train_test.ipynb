{
 "cells": [
  {
   "cell_type": "code",
   "execution_count": 1,
   "id": "710b1c4c-ce51-4f14-bab4-1265834bd810",
   "metadata": {
    "tags": []
   },
   "outputs": [],
   "source": [
    "%load_ext autoreload\n",
    "%autoreload 2"
   ]
  },
  {
   "cell_type": "markdown",
   "id": "0492d61d-8a02-4e2e-8055-224a8ced311f",
   "metadata": {},
   "source": [
    "### Test data loader"
   ]
  },
  {
   "cell_type": "code",
   "execution_count": 1,
   "id": "da90adc0-ee91-457e-acea-9af7cd2055f4",
   "metadata": {
    "tags": []
   },
   "outputs": [
    {
     "data": {
      "text/html": [
       "<pre style=\"white-space:pre;overflow-x:auto;line-height:normal;font-family:Menlo,'DejaVu Sans Mono',consolas,'Courier New',monospace\"><span style=\"color: #800080; text-decoration-color: #800080; font-weight: bold\">ArgOpts</span><span style=\"font-weight: bold\">(</span><span style=\"color: #808000; text-decoration-color: #808000\">train_dir</span>=<span style=\"color: #008000; text-decoration-color: #008000\">'/opt/files/maio2022/SAT/NSNet/SATSolving/SATLIB'</span>, <span style=\"color: #808000; text-decoration-color: #808000\">batch_size</span>=<span style=\"color: #008080; text-decoration-color: #008080; font-weight: bold\">32</span>, <span style=\"color: #808000; text-decoration-color: #808000\">num_workers</span>=<span style=\"color: #008080; text-decoration-color: #008080; font-weight: bold\">4</span>, <span style=\"color: #808000; text-decoration-color: #808000\">model</span>=<span style=\"color: #008000; text-decoration-color: #008000\">'NSNet'</span>, \n",
       "<span style=\"color: #808000; text-decoration-color: #808000\">task</span>=<span style=\"color: #008000; text-decoration-color: #008000\">'sat-solving'</span>, <span style=\"color: #808000; text-decoration-color: #808000\">loss</span>=<span style=\"color: #008000; text-decoration-color: #008000\">'marginal'</span>, <span style=\"color: #808000; text-decoration-color: #808000\">train_size</span>=<span style=\"color: #800080; text-decoration-color: #800080; font-style: italic\">None</span><span style=\"font-weight: bold\">)</span>\n",
       "</pre>\n"
      ],
      "text/plain": [
       "\u001b[1;35mArgOpts\u001b[0m\u001b[1m(\u001b[0m\u001b[33mtrain_dir\u001b[0m=\u001b[32m'/opt/files/maio2022/SAT/NSNet/SATSolving/SATLIB'\u001b[0m, \u001b[33mbatch_size\u001b[0m=\u001b[1;36m32\u001b[0m, \u001b[33mnum_workers\u001b[0m=\u001b[1;36m4\u001b[0m, \u001b[33mmodel\u001b[0m=\u001b[32m'NSNet'\u001b[0m, \n",
       "\u001b[33mtask\u001b[0m=\u001b[32m'sat-solving'\u001b[0m, \u001b[33mloss\u001b[0m=\u001b[32m'marginal'\u001b[0m, \u001b[33mtrain_size\u001b[0m=\u001b[3;35mNone\u001b[0m\u001b[1m)\u001b[0m\n"
      ]
     },
     "metadata": {},
     "output_type": "display_data"
    },
    {
     "data": {
      "text/plain": [
       "1447"
      ]
     },
     "execution_count": 1,
     "metadata": {},
     "output_type": "execute_result"
    }
   ],
   "source": [
    "from rich import print as printr\n",
    "\n",
    "from utils.dataloader import get_dataloader\n",
    "from utils.options import ArgOpts              # custom-made\n",
    "\n",
    "\n",
    "opts = ArgOpts.get_default()\n",
    "printr(opts)\n",
    "\n",
    "train_loader = get_dataloader(opts.train_dir, opts=opts, mode='train', data_size=opts.train_size)\n",
    "\n",
    "len(train_loader)"
   ]
  },
  {
   "cell_type": "code",
   "execution_count": 2,
   "id": "f4bed0d2-f2bb-4c8d-aff9-1135401de78a",
   "metadata": {
    "tags": []
   },
   "outputs": [],
   "source": [
    "data = next(iter(train_loader))"
   ]
  },
  {
   "cell_type": "code",
   "execution_count": 3,
   "id": "48697b21-9a79-4b3b-bc5a-04f31ffddcd3",
   "metadata": {
    "tags": []
   },
   "outputs": [
    {
     "data": {
      "text/plain": [
       "tensor([ 423,  403,  449,  435,  430,  449,  435,  441,  403,  423,  418,   91,\n",
       "         441, 3100,  441,  423,  435,  418,  403,  411,  403,  423,  449,  449,\n",
       "         435,  441,  429,  302,  411,  435,  403,  418])"
      ]
     },
     "execution_count": 3,
     "metadata": {},
     "output_type": "execute_result"
    }
   ],
   "source": [
    "data.c_size"
   ]
  },
  {
   "cell_type": "code",
   "execution_count": 8,
   "id": "544ee85e-cb9b-4e9d-8881-a6339cc652b1",
   "metadata": {
    "tags": []
   },
   "outputs": [
    {
     "data": {
      "text/plain": [
       "BPG(l_size=[1], c_size=[1], sign_l_edge_index=[2538], c2l_msg_repeat_index=[31640], c2l_msg_scatter_index=[31640], l2c_msg_aggr_repeat_index=[17766], l2c_msg_aggr_scatter_index=[17766], l2c_msg_scatter_index=[8883], c_batch=[423], l_edge_index=[1269], c_edge_index=[1269])"
      ]
     },
     "execution_count": 8,
     "metadata": {},
     "output_type": "execute_result"
    }
   ],
   "source": [
    "data[0]"
   ]
  },
  {
   "cell_type": "code",
   "execution_count": null,
   "id": "afbd0343-6b4f-4568-8c34-fc223c619c86",
   "metadata": {},
   "outputs": [],
   "source": []
  },
  {
   "cell_type": "code",
   "execution_count": null,
   "id": "3f68be66-b1ae-4346-a8c3-f35f4fe2a9ac",
   "metadata": {},
   "outputs": [],
   "source": []
  },
  {
   "cell_type": "markdown",
   "id": "3dca047a-f72f-4683-8572-c4fb9b746afc",
   "metadata": {},
   "source": [
    "### Test train"
   ]
  },
  {
   "cell_type": "code",
   "execution_count": 2,
   "id": "8d7d5db9-a231-4f30-b23d-81c7d645c435",
   "metadata": {
    "tags": []
   },
   "outputs": [],
   "source": [
    "from train_model import main as train_run"
   ]
  },
  {
   "cell_type": "code",
   "execution_count": 3,
   "id": "09ceca96-4ade-4911-a602-723275c467dd",
   "metadata": {
    "tags": []
   },
   "outputs": [
    {
     "name": "stdout",
     "output_type": "stream",
     "text": [
      "Namespace(task='sat-solving', exp_id='NSNet', train_dir='/opt/files/maio2022/SAT/NSNet/SATSolving/SATLIB', train_size=None, valid_dir=None, loss='marginal', restore=None, save_model_epochs=1, num_workers=8, batch_size=128, epochs=200, lr=0.0001, weight_dacay=1e-10, scheduler=None, lr_step_size=20, lr_factor=0.5, lr_patience=20, clip_norm=0.65, seed=0, model='NSNet', dim=64, n_rounds=10, n_mlp_layers=3, activation='relu', log_dir='runs/NSNet', checkpoint_dir='runs/NSNet/checkpoints', log='runs/NSNet/log.txt', device=device(type='cpu'))\n",
      "EPOCH #0\n",
      "Training...\n"
     ]
    },
    {
     "ename": "TypeError",
     "evalue": "unsupported operand type(s) for -: 'int' and 'NoneType'",
     "output_type": "error",
     "traceback": [
      "\u001b[0;31m---------------------------------------------------------------------------\u001b[0m",
      "\u001b[0;31mTypeError\u001b[0m                                 Traceback (most recent call last)",
      "Cell \u001b[0;32mIn[3], line 1\u001b[0m\n\u001b[0;32m----> 1\u001b[0m \u001b[43mtrain_run\u001b[49m\u001b[43m(\u001b[49m\u001b[43m)\u001b[49m\n",
      "File \u001b[0;32m/opt/files/maio2022/SAT/NSNet/src/train_model.py:162\u001b[0m, in \u001b[0;36mmain\u001b[0;34m()\u001b[0m\n\u001b[1;32m    160\u001b[0m     preds \u001b[38;5;241m=\u001b[39m v_prob\n\u001b[1;32m    161\u001b[0m     labels \u001b[38;5;241m=\u001b[39m data\u001b[38;5;241m.\u001b[39my\n\u001b[0;32m--> 162\u001b[0m     labels \u001b[38;5;241m=\u001b[39m torch\u001b[38;5;241m.\u001b[39mstack([labels, \u001b[38;5;241;43m1\u001b[39;49m\u001b[38;5;241;43m-\u001b[39;49m\u001b[43mlabels\u001b[49m], dim\u001b[38;5;241m=\u001b[39m\u001b[38;5;241m1\u001b[39m)\n\u001b[1;32m    163\u001b[0m     loss \u001b[38;5;241m=\u001b[39m F\u001b[38;5;241m.\u001b[39mkl_div(safe_log(preds), labels)\n\u001b[1;32m    165\u001b[0m v_assign \u001b[38;5;241m=\u001b[39m (v_prob \u001b[38;5;241m>\u001b[39m \u001b[38;5;241m0.5\u001b[39m)\u001b[38;5;241m.\u001b[39mfloat()\n",
      "\u001b[0;31mTypeError\u001b[0m: unsupported operand type(s) for -: 'int' and 'NoneType'"
     ]
    },
    {
     "name": "stdout",
     "output_type": "stream",
     "text": [
      "> \u001b[0;32m/opt/files/maio2022/SAT/NSNet/src/train_model.py\u001b[0m(162)\u001b[0;36mmain\u001b[0;34m()\u001b[0m\n",
      "\u001b[0;32m    160 \u001b[0;31m                    \u001b[0mpreds\u001b[0m \u001b[0;34m=\u001b[0m \u001b[0mv_prob\u001b[0m\u001b[0;34m\u001b[0m\u001b[0;34m\u001b[0m\u001b[0m\n",
      "\u001b[0m\u001b[0;32m    161 \u001b[0;31m                    \u001b[0mlabels\u001b[0m \u001b[0;34m=\u001b[0m \u001b[0mdata\u001b[0m\u001b[0;34m.\u001b[0m\u001b[0my\u001b[0m\u001b[0;34m\u001b[0m\u001b[0;34m\u001b[0m\u001b[0m\n",
      "\u001b[0m\u001b[0;32m--> 162 \u001b[0;31m                    \u001b[0mlabels\u001b[0m \u001b[0;34m=\u001b[0m \u001b[0mtorch\u001b[0m\u001b[0;34m.\u001b[0m\u001b[0mstack\u001b[0m\u001b[0;34m(\u001b[0m\u001b[0;34m[\u001b[0m\u001b[0mlabels\u001b[0m\u001b[0;34m,\u001b[0m \u001b[0;36m1\u001b[0m\u001b[0;34m-\u001b[0m\u001b[0mlabels\u001b[0m\u001b[0;34m]\u001b[0m\u001b[0;34m,\u001b[0m \u001b[0mdim\u001b[0m\u001b[0;34m=\u001b[0m\u001b[0;36m1\u001b[0m\u001b[0;34m)\u001b[0m\u001b[0;34m\u001b[0m\u001b[0;34m\u001b[0m\u001b[0m\n",
      "\u001b[0m\u001b[0;32m    163 \u001b[0;31m                    \u001b[0mloss\u001b[0m \u001b[0;34m=\u001b[0m \u001b[0mF\u001b[0m\u001b[0;34m.\u001b[0m\u001b[0mkl_div\u001b[0m\u001b[0;34m(\u001b[0m\u001b[0msafe_log\u001b[0m\u001b[0;34m(\u001b[0m\u001b[0mpreds\u001b[0m\u001b[0;34m)\u001b[0m\u001b[0;34m,\u001b[0m \u001b[0mlabels\u001b[0m\u001b[0;34m)\u001b[0m\u001b[0;34m\u001b[0m\u001b[0;34m\u001b[0m\u001b[0m\n",
      "\u001b[0m\u001b[0;32m    164 \u001b[0;31m\u001b[0;34m\u001b[0m\u001b[0m\n",
      "\u001b[0m\n",
      "<class 'torch_geometric.data.batch.BPGBatch'>\n",
      "BPGBatch(l_size=[128], c_size=[128], sign_l_edge_index=[334642], c2l_msg_repeat_index=[4029672], c2l_msg_scatter_index=[4029672], l2c_msg_aggr_repeat_index=[2153492], l2c_msg_aggr_scatter_index=[2153492], l2c_msg_scatter_index=[1094519], c_batch=[59404], l_edge_index=[167321], c_edge_index=[167321])\n",
      "None\n"
     ]
    },
    {
     "name": "stderr",
     "output_type": "stream",
     "text": [
      "Traceback (most recent call last):\n",
      "  File \"<string>\", line 1, in <module>\n",
      "  File \"/opt/homebrew/Caskroom/miniconda/base/envs/spacy/lib/python3.10/multiprocessing/spawn.py\", line 116, in spawn_main\n",
      "    exitcode = _main(fd, parent_sentinel)\n",
      "  File \"/opt/homebrew/Caskroom/miniconda/base/envs/spacy/lib/python3.10/multiprocessing/spawn.py\", line 126, in _main\n",
      "    self = reduction.pickle.load(from_parent)\n",
      "AttributeError: Can't get attribute 'Opts' on <module '__main__' (built-in)>\n"
     ]
    }
   ],
   "source": [
    "train_run()"
   ]
  },
  {
   "cell_type": "code",
   "execution_count": 4,
   "id": "1fc5e4cb-2336-4dfd-b4bf-bd3392f643d8",
   "metadata": {
    "tags": []
   },
   "outputs": [
    {
     "name": "stdin",
     "output_type": "stream",
     "text": [
      "ipdb>  labels\n",
      "ipdb>  type(data)\n",
      "ipdb>  data\n",
      "ipdb>  data.y\n",
      "ipdb>  print(data.y)\n",
      "ipdb>  exit\n"
     ]
    }
   ],
   "source": [
    "%debug"
   ]
  },
  {
   "cell_type": "code",
   "execution_count": null,
   "id": "a17b5f72-2ebb-4011-830a-54de90eb991b",
   "metadata": {},
   "outputs": [],
   "source": []
  },
  {
   "cell_type": "code",
   "execution_count": null,
   "id": "995b29db-86b3-41bd-a933-62556c3b2ed6",
   "metadata": {},
   "outputs": [],
   "source": []
  },
  {
   "cell_type": "code",
   "execution_count": null,
   "id": "c2ce99f6-0bad-489b-99a4-202beac2b4a9",
   "metadata": {},
   "outputs": [],
   "source": []
  },
  {
   "cell_type": "code",
   "execution_count": null,
   "id": "00aeae3c-6d36-4999-88e5-535d7dfab8b0",
   "metadata": {},
   "outputs": [],
   "source": []
  },
  {
   "cell_type": "code",
   "execution_count": null,
   "id": "588f420c-b801-42f6-aa16-4937fff6d996",
   "metadata": {},
   "outputs": [],
   "source": []
  },
  {
   "cell_type": "code",
   "execution_count": null,
   "id": "66009037-0630-4d6f-ad19-6b5e20dffe56",
   "metadata": {},
   "outputs": [],
   "source": []
  },
  {
   "cell_type": "code",
   "execution_count": null,
   "id": "702fbc8c-33f9-4380-817d-7f02ca445dac",
   "metadata": {},
   "outputs": [],
   "source": []
  }
 ],
 "metadata": {
  "kernelspec": {
   "display_name": "Python 3 (ipykernel)",
   "language": "python",
   "name": "python3"
  },
  "language_info": {
   "codemirror_mode": {
    "name": "ipython",
    "version": 3
   },
   "file_extension": ".py",
   "mimetype": "text/x-python",
   "name": "python",
   "nbconvert_exporter": "python",
   "pygments_lexer": "ipython3",
   "version": "3.10.9"
  }
 },
 "nbformat": 4,
 "nbformat_minor": 5
}
