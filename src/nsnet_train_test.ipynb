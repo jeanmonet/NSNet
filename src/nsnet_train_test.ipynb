{
 "cells": [
  {
   "cell_type": "code",
   "execution_count": 1,
   "id": "710b1c4c-ce51-4f14-bab4-1265834bd810",
   "metadata": {
    "tags": []
   },
   "outputs": [],
   "source": [
    "%load_ext autoreload\n",
    "%autoreload 2"
   ]
  },
  {
   "cell_type": "code",
   "execution_count": 7,
   "id": "4c06b72e-ebdc-4e76-8e91-0febe3f3fed2",
   "metadata": {
    "tags": []
   },
   "outputs": [
    {
     "data": {
      "text/html": [
       "<pre style=\"white-space:pre;overflow-x:auto;line-height:normal;font-family:Menlo,'DejaVu Sans Mono',consolas,'Courier New',monospace\"><span style=\"font-weight: bold\">[</span>\n",
       "    <span style=\"color: #800080; text-decoration-color: #800080; font-weight: bold\">array</span><span style=\"font-weight: bold\">([</span><span style=\"color: #008080; text-decoration-color: #008080; font-weight: bold\">0</span>.        , <span style=\"color: #008080; text-decoration-color: #008080; font-weight: bold\">0</span>.        , <span style=\"color: #008080; text-decoration-color: #008080; font-weight: bold\">0.33333333</span>, <span style=\"color: #008080; text-decoration-color: #008080; font-weight: bold\">0</span>.        , <span style=\"color: #008080; text-decoration-color: #008080; font-weight: bold\">0.5</span>       ,\n",
       "       <span style=\"color: #008080; text-decoration-color: #008080; font-weight: bold\">1</span>.        , <span style=\"color: #008080; text-decoration-color: #008080; font-weight: bold\">1</span>.        , <span style=\"color: #008080; text-decoration-color: #008080; font-weight: bold\">0</span>.        , <span style=\"color: #008080; text-decoration-color: #008080; font-weight: bold\">0</span>.        , <span style=\"color: #008080; text-decoration-color: #008080; font-weight: bold\">1</span>.        ,\n",
       "       <span style=\"color: #008080; text-decoration-color: #008080; font-weight: bold\">0</span>.        , <span style=\"color: #008080; text-decoration-color: #008080; font-weight: bold\">1</span>.        , <span style=\"color: #008080; text-decoration-color: #008080; font-weight: bold\">0</span>.        , <span style=\"color: #008080; text-decoration-color: #008080; font-weight: bold\">1</span>.        , <span style=\"color: #008080; text-decoration-color: #008080; font-weight: bold\">1</span>.        ,\n",
       "       <span style=\"color: #008080; text-decoration-color: #008080; font-weight: bold\">1</span>.        , <span style=\"color: #008080; text-decoration-color: #008080; font-weight: bold\">0.33333333</span>, <span style=\"color: #008080; text-decoration-color: #008080; font-weight: bold\">1</span>.        , <span style=\"color: #008080; text-decoration-color: #008080; font-weight: bold\">1</span>.        , <span style=\"color: #008080; text-decoration-color: #008080; font-weight: bold\">1</span>.        ,\n",
       "       <span style=\"color: #008080; text-decoration-color: #008080; font-weight: bold\">1</span>.        <span style=\"font-weight: bold\">])</span>,\n",
       "    <span style=\"color: #800080; text-decoration-color: #800080; font-weight: bold\">array</span><span style=\"font-weight: bold\">([</span><span style=\"color: #008080; text-decoration-color: #008080; font-weight: bold\">0</span>. , <span style=\"color: #008080; text-decoration-color: #008080; font-weight: bold\">0.5</span>, <span style=\"color: #008080; text-decoration-color: #008080; font-weight: bold\">1</span>. , <span style=\"color: #008080; text-decoration-color: #008080; font-weight: bold\">1</span>. , <span style=\"color: #008080; text-decoration-color: #008080; font-weight: bold\">0.5</span>, <span style=\"color: #008080; text-decoration-color: #008080; font-weight: bold\">1</span>. , <span style=\"color: #008080; text-decoration-color: #008080; font-weight: bold\">0</span>. , <span style=\"color: #008080; text-decoration-color: #008080; font-weight: bold\">0.5</span>, <span style=\"color: #008080; text-decoration-color: #008080; font-weight: bold\">1</span>. , <span style=\"color: #008080; text-decoration-color: #008080; font-weight: bold\">0.5</span>, <span style=\"color: #008080; text-decoration-color: #008080; font-weight: bold\">0</span>. , <span style=\"color: #008080; text-decoration-color: #008080; font-weight: bold\">1</span>. , <span style=\"color: #008080; text-decoration-color: #008080; font-weight: bold\">0</span>. ,\n",
       "       <span style=\"color: #008080; text-decoration-color: #008080; font-weight: bold\">0</span>. , <span style=\"color: #008080; text-decoration-color: #008080; font-weight: bold\">0</span>. <span style=\"font-weight: bold\">])</span>,\n",
       "    <span style=\"color: #800080; text-decoration-color: #800080; font-weight: bold\">array</span><span style=\"font-weight: bold\">([</span><span style=\"color: #008080; text-decoration-color: #008080; font-weight: bold\">0</span>., <span style=\"color: #008080; text-decoration-color: #008080; font-weight: bold\">1</span>., <span style=\"color: #008080; text-decoration-color: #008080; font-weight: bold\">1</span>., <span style=\"color: #008080; text-decoration-color: #008080; font-weight: bold\">1</span>., <span style=\"color: #008080; text-decoration-color: #008080; font-weight: bold\">0</span>., <span style=\"color: #008080; text-decoration-color: #008080; font-weight: bold\">0</span>., <span style=\"color: #008080; text-decoration-color: #008080; font-weight: bold\">0</span>., <span style=\"color: #008080; text-decoration-color: #008080; font-weight: bold\">0</span>., <span style=\"color: #008080; text-decoration-color: #008080; font-weight: bold\">1</span>., <span style=\"color: #008080; text-decoration-color: #008080; font-weight: bold\">0</span>., <span style=\"color: #008080; text-decoration-color: #008080; font-weight: bold\">0</span>., <span style=\"color: #008080; text-decoration-color: #008080; font-weight: bold\">0</span>., <span style=\"color: #008080; text-decoration-color: #008080; font-weight: bold\">1</span>., <span style=\"color: #008080; text-decoration-color: #008080; font-weight: bold\">0</span>.<span style=\"font-weight: bold\">])</span>,\n",
       "    <span style=\"color: #800080; text-decoration-color: #800080; font-weight: bold\">array</span><span style=\"font-weight: bold\">([</span><span style=\"color: #008080; text-decoration-color: #008080; font-weight: bold\">0</span>.        , <span style=\"color: #008080; text-decoration-color: #008080; font-weight: bold\">0</span>.        , <span style=\"color: #008080; text-decoration-color: #008080; font-weight: bold\">1</span>.        , <span style=\"color: #008080; text-decoration-color: #008080; font-weight: bold\">0</span>.        , <span style=\"color: #008080; text-decoration-color: #008080; font-weight: bold\">0.66666667</span>,\n",
       "       <span style=\"color: #008080; text-decoration-color: #008080; font-weight: bold\">0</span>.        , <span style=\"color: #008080; text-decoration-color: #008080; font-weight: bold\">0</span>.        , <span style=\"color: #008080; text-decoration-color: #008080; font-weight: bold\">1</span>.        , <span style=\"color: #008080; text-decoration-color: #008080; font-weight: bold\">0.66666667</span>, <span style=\"color: #008080; text-decoration-color: #008080; font-weight: bold\">0</span>.        ,\n",
       "       <span style=\"color: #008080; text-decoration-color: #008080; font-weight: bold\">1</span>.        , <span style=\"color: #008080; text-decoration-color: #008080; font-weight: bold\">0</span>.        , <span style=\"color: #008080; text-decoration-color: #008080; font-weight: bold\">0</span>.        , <span style=\"color: #008080; text-decoration-color: #008080; font-weight: bold\">0.66666667</span>, <span style=\"color: #008080; text-decoration-color: #008080; font-weight: bold\">1</span>.        ,\n",
       "       <span style=\"color: #008080; text-decoration-color: #008080; font-weight: bold\">0.66666667</span>, <span style=\"color: #008080; text-decoration-color: #008080; font-weight: bold\">0</span>.        , <span style=\"color: #008080; text-decoration-color: #008080; font-weight: bold\">1</span>.        , <span style=\"color: #008080; text-decoration-color: #008080; font-weight: bold\">0</span>.        , <span style=\"color: #008080; text-decoration-color: #008080; font-weight: bold\">1</span>.        ,\n",
       "       <span style=\"color: #008080; text-decoration-color: #008080; font-weight: bold\">1</span>.        <span style=\"font-weight: bold\">])</span>\n",
       "<span style=\"font-weight: bold\">]</span>\n",
       "</pre>\n"
      ],
      "text/plain": [
       "\u001b[1m[\u001b[0m\n",
       "    \u001b[1;35marray\u001b[0m\u001b[1m(\u001b[0m\u001b[1m[\u001b[0m\u001b[1;36m0\u001b[0m.        , \u001b[1;36m0\u001b[0m.        , \u001b[1;36m0.33333333\u001b[0m, \u001b[1;36m0\u001b[0m.        , \u001b[1;36m0.5\u001b[0m       ,\n",
       "       \u001b[1;36m1\u001b[0m.        , \u001b[1;36m1\u001b[0m.        , \u001b[1;36m0\u001b[0m.        , \u001b[1;36m0\u001b[0m.        , \u001b[1;36m1\u001b[0m.        ,\n",
       "       \u001b[1;36m0\u001b[0m.        , \u001b[1;36m1\u001b[0m.        , \u001b[1;36m0\u001b[0m.        , \u001b[1;36m1\u001b[0m.        , \u001b[1;36m1\u001b[0m.        ,\n",
       "       \u001b[1;36m1\u001b[0m.        , \u001b[1;36m0.33333333\u001b[0m, \u001b[1;36m1\u001b[0m.        , \u001b[1;36m1\u001b[0m.        , \u001b[1;36m1\u001b[0m.        ,\n",
       "       \u001b[1;36m1\u001b[0m.        \u001b[1m]\u001b[0m\u001b[1m)\u001b[0m,\n",
       "    \u001b[1;35marray\u001b[0m\u001b[1m(\u001b[0m\u001b[1m[\u001b[0m\u001b[1;36m0\u001b[0m. , \u001b[1;36m0.5\u001b[0m, \u001b[1;36m1\u001b[0m. , \u001b[1;36m1\u001b[0m. , \u001b[1;36m0.5\u001b[0m, \u001b[1;36m1\u001b[0m. , \u001b[1;36m0\u001b[0m. , \u001b[1;36m0.5\u001b[0m, \u001b[1;36m1\u001b[0m. , \u001b[1;36m0.5\u001b[0m, \u001b[1;36m0\u001b[0m. , \u001b[1;36m1\u001b[0m. , \u001b[1;36m0\u001b[0m. ,\n",
       "       \u001b[1;36m0\u001b[0m. , \u001b[1;36m0\u001b[0m. \u001b[1m]\u001b[0m\u001b[1m)\u001b[0m,\n",
       "    \u001b[1;35marray\u001b[0m\u001b[1m(\u001b[0m\u001b[1m[\u001b[0m\u001b[1;36m0\u001b[0m., \u001b[1;36m1\u001b[0m., \u001b[1;36m1\u001b[0m., \u001b[1;36m1\u001b[0m., \u001b[1;36m0\u001b[0m., \u001b[1;36m0\u001b[0m., \u001b[1;36m0\u001b[0m., \u001b[1;36m0\u001b[0m., \u001b[1;36m1\u001b[0m., \u001b[1;36m0\u001b[0m., \u001b[1;36m0\u001b[0m., \u001b[1;36m0\u001b[0m., \u001b[1;36m1\u001b[0m., \u001b[1;36m0\u001b[0m.\u001b[1m]\u001b[0m\u001b[1m)\u001b[0m,\n",
       "    \u001b[1;35marray\u001b[0m\u001b[1m(\u001b[0m\u001b[1m[\u001b[0m\u001b[1;36m0\u001b[0m.        , \u001b[1;36m0\u001b[0m.        , \u001b[1;36m1\u001b[0m.        , \u001b[1;36m0\u001b[0m.        , \u001b[1;36m0.66666667\u001b[0m,\n",
       "       \u001b[1;36m0\u001b[0m.        , \u001b[1;36m0\u001b[0m.        , \u001b[1;36m1\u001b[0m.        , \u001b[1;36m0.66666667\u001b[0m, \u001b[1;36m0\u001b[0m.        ,\n",
       "       \u001b[1;36m1\u001b[0m.        , \u001b[1;36m0\u001b[0m.        , \u001b[1;36m0\u001b[0m.        , \u001b[1;36m0.66666667\u001b[0m, \u001b[1;36m1\u001b[0m.        ,\n",
       "       \u001b[1;36m0.66666667\u001b[0m, \u001b[1;36m0\u001b[0m.        , \u001b[1;36m1\u001b[0m.        , \u001b[1;36m0\u001b[0m.        , \u001b[1;36m1\u001b[0m.        ,\n",
       "       \u001b[1;36m1\u001b[0m.        \u001b[1m]\u001b[0m\u001b[1m)\u001b[0m\n",
       "\u001b[1m]\u001b[0m\n"
      ]
     },
     "metadata": {},
     "output_type": "display_data"
    }
   ],
   "source": [
    "import pickle\n",
    "from rich import print as printr\n",
    "\n",
    "\n",
    "with open(\"/opt/files/maio2022/SAT/NSNet/SATSolving/3-sat/valid/marginals.pkl\", \"rb\") as f:\n",
    "    marginals = pickle.load(f)\n",
    "\n",
    "printr(marginals[:4])"
   ]
  },
  {
   "cell_type": "code",
   "execution_count": null,
   "id": "f6d841e2-6a81-467d-88c6-7ede5b2be06d",
   "metadata": {},
   "outputs": [],
   "source": []
  },
  {
   "cell_type": "markdown",
   "id": "a6af7efa-0a7a-4fa7-92ff-89a502d0a3d2",
   "metadata": {},
   "source": [
    "### Test 3-SAT generator"
   ]
  },
  {
   "cell_type": "code",
   "execution_count": 16,
   "id": "ba041564-44a9-4e32-bd98-b470e5e3a37c",
   "metadata": {
    "tags": []
   },
   "outputs": [],
   "source": [
    "import os\n",
    "import argparse\n",
    "import random\n",
    "import networkx as nx\n",
    "\n",
    "from concurrent.futures.process import ProcessPoolExecutor\n",
    "from pysat.solvers import Cadical153\n",
    "from cnfgen import RandomKCNF\n",
    "from utils.utils import write_dimacs_to, VIG\n",
    "\n",
    "\n",
    "class Generator:\n",
    "    def __init__(self, opts):\n",
    "        self.opts = opts\n",
    "        os.makedirs(self.opts.out_dir, exist_ok=True)\n",
    "\n",
    "    def run(self, t):\n",
    "        if t % self.opts.print_interval == 0:\n",
    "            print('Generating instance %d.' % t)\n",
    "\n",
    "        while True:\n",
    "            n_vars = random.randint(self.opts.min_n, self.opts.max_n)\n",
    "            n_clauses = int(4.258 * n_vars + 58.26 * pow(n_vars, -2 / 3.))\n",
    "\n",
    "            cnf = RandomKCNF(3, n_vars, n_clauses)\n",
    "            clauses = list(cnf.clauses())\n",
    "            # clauses = [list(cnf._compress_clause(clause)) for clause in clauses]\n",
    "            vig = VIG(n_vars, clauses)\n",
    "            if not nx.is_connected(vig):\n",
    "                continue\n",
    "\n",
    "            solver = Cadical153(bootstrap_with=clauses)\n",
    "\n",
    "            if solver.solve():\n",
    "                write_dimacs_to(n_vars, clauses, os.path.abspath(os.path.join(self.opts.out_dir, '%.5d.cnf' % (t))))\n",
    "                break"
   ]
  },
  {
   "cell_type": "code",
   "execution_count": 17,
   "id": "33378f42-0cd2-4f6b-ad95-86633fa10d9d",
   "metadata": {
    "tags": []
   },
   "outputs": [],
   "source": [
    "from utils.options import ArgOpts              # custom-made\n",
    "\n",
    "opts = ArgOpts(\n",
    "    # --min_n 10 --max_n 40\n",
    "    min_n=10,\n",
    "    max_n=40,\n",
    "    out_dir=\"/opt/files/maio2022/SAT/NSNet/SATSolving/3-sat/train\",\n",
    "    print_interval=5,\n",
    ")"
   ]
  },
  {
   "cell_type": "code",
   "execution_count": 18,
   "id": "c41147c8-ce4f-4c24-b20c-d999f4ff7ec1",
   "metadata": {
    "tags": []
   },
   "outputs": [],
   "source": [
    "generator = Generator(opts)"
   ]
  },
  {
   "cell_type": "code",
   "execution_count": 19,
   "id": "46a80ed4-e25f-4375-80d5-87c2183ab826",
   "metadata": {
    "tags": []
   },
   "outputs": [
    {
     "name": "stdout",
     "output_type": "stream",
     "text": [
      "Generating instance 10.\n"
     ]
    }
   ],
   "source": [
    "generator.run(10)"
   ]
  },
  {
   "cell_type": "code",
   "execution_count": null,
   "id": "e4ba07a7-e67b-4acf-88d3-b726699ea5b2",
   "metadata": {},
   "outputs": [],
   "source": [
    "from cnfgen import RandomKCNF\n",
    "from utils.utils import write_dimacs_to, VIG\n",
    "\n",
    "\n",
    "class Generator:\n",
    "    def __init__(self, opts):\n",
    "        self.opts = opts\n",
    "        os.makedirs(self.opts.out_dir, exist_ok=True)\n",
    "\n",
    "    def run(self, t):\n",
    "        if t % self.opts.print_interval == 0:\n",
    "            print('Generating instance %d.' % t)\n",
    "\n",
    "        while True:\n",
    "            n_vars = random.randint(self.opts.min_n, self.opts.max_n)\n",
    "            n_clauses = int(4.258 * n_vars + 58.26 * pow(n_vars, -2 / 3.))\n",
    "\n",
    "            cnf = RandomKCNF(3, n_vars, n_clauses)\n",
    "            clauses = list(cnf.clauses())\n",
    "            clauses = [list(cnf._compress_clause(clause)) for clause in clauses]"
   ]
  },
  {
   "cell_type": "code",
   "execution_count": null,
   "id": "a050cc84-79d3-4ffb-9ba1-02220b93e6dc",
   "metadata": {},
   "outputs": [],
   "source": []
  },
  {
   "cell_type": "code",
   "execution_count": null,
   "id": "86f061b5-3ddf-482d-95bd-c3809995d59b",
   "metadata": {},
   "outputs": [],
   "source": []
  },
  {
   "cell_type": "markdown",
   "id": "0492d61d-8a02-4e2e-8055-224a8ced311f",
   "metadata": {},
   "source": [
    "### Test data loader"
   ]
  },
  {
   "cell_type": "code",
   "execution_count": 1,
   "id": "da90adc0-ee91-457e-acea-9af7cd2055f4",
   "metadata": {
    "tags": []
   },
   "outputs": [
    {
     "data": {
      "text/html": [
       "<pre style=\"white-space:pre;overflow-x:auto;line-height:normal;font-family:Menlo,'DejaVu Sans Mono',consolas,'Courier New',monospace\"><span style=\"color: #800080; text-decoration-color: #800080; font-weight: bold\">ArgOpts</span><span style=\"font-weight: bold\">(</span><span style=\"color: #808000; text-decoration-color: #808000\">train_dir</span>=<span style=\"color: #008000; text-decoration-color: #008000\">'/opt/files/maio2022/SAT/NSNet/SATSolving/SATLIB'</span>, <span style=\"color: #808000; text-decoration-color: #808000\">batch_size</span>=<span style=\"color: #008080; text-decoration-color: #008080; font-weight: bold\">32</span>, <span style=\"color: #808000; text-decoration-color: #808000\">num_workers</span>=<span style=\"color: #008080; text-decoration-color: #008080; font-weight: bold\">4</span>, <span style=\"color: #808000; text-decoration-color: #808000\">model</span>=<span style=\"color: #008000; text-decoration-color: #008000\">'NSNet'</span>, \n",
       "<span style=\"color: #808000; text-decoration-color: #808000\">task</span>=<span style=\"color: #008000; text-decoration-color: #008000\">'sat-solving'</span>, <span style=\"color: #808000; text-decoration-color: #808000\">loss</span>=<span style=\"color: #008000; text-decoration-color: #008000\">'marginal'</span>, <span style=\"color: #808000; text-decoration-color: #808000\">train_size</span>=<span style=\"color: #800080; text-decoration-color: #800080; font-style: italic\">None</span><span style=\"font-weight: bold\">)</span>\n",
       "</pre>\n"
      ],
      "text/plain": [
       "\u001b[1;35mArgOpts\u001b[0m\u001b[1m(\u001b[0m\u001b[33mtrain_dir\u001b[0m=\u001b[32m'/opt/files/maio2022/SAT/NSNet/SATSolving/SATLIB'\u001b[0m, \u001b[33mbatch_size\u001b[0m=\u001b[1;36m32\u001b[0m, \u001b[33mnum_workers\u001b[0m=\u001b[1;36m4\u001b[0m, \u001b[33mmodel\u001b[0m=\u001b[32m'NSNet'\u001b[0m, \n",
       "\u001b[33mtask\u001b[0m=\u001b[32m'sat-solving'\u001b[0m, \u001b[33mloss\u001b[0m=\u001b[32m'marginal'\u001b[0m, \u001b[33mtrain_size\u001b[0m=\u001b[3;35mNone\u001b[0m\u001b[1m)\u001b[0m\n"
      ]
     },
     "metadata": {},
     "output_type": "display_data"
    },
    {
     "data": {
      "text/plain": [
       "1447"
      ]
     },
     "execution_count": 1,
     "metadata": {},
     "output_type": "execute_result"
    }
   ],
   "source": [
    "from rich import print as printr\n",
    "\n",
    "from utils.dataloader import get_dataloader\n",
    "from utils.options import ArgOpts              # custom-made\n",
    "\n",
    "\n",
    "opts = ArgOpts.get_default()\n",
    "printr(opts)\n",
    "\n",
    "train_loader = get_dataloader(opts.train_dir, opts=opts, mode='train', data_size=opts.train_size)\n",
    "\n",
    "len(train_loader)"
   ]
  },
  {
   "cell_type": "code",
   "execution_count": 2,
   "id": "f4bed0d2-f2bb-4c8d-aff9-1135401de78a",
   "metadata": {
    "tags": []
   },
   "outputs": [],
   "source": [
    "data = next(iter(train_loader))"
   ]
  },
  {
   "cell_type": "code",
   "execution_count": 3,
   "id": "48697b21-9a79-4b3b-bc5a-04f31ffddcd3",
   "metadata": {
    "tags": []
   },
   "outputs": [
    {
     "data": {
      "text/plain": [
       "tensor([ 423,  403,  449,  435,  430,  449,  435,  441,  403,  423,  418,   91,\n",
       "         441, 3100,  441,  423,  435,  418,  403,  411,  403,  423,  449,  449,\n",
       "         435,  441,  429,  302,  411,  435,  403,  418])"
      ]
     },
     "execution_count": 3,
     "metadata": {},
     "output_type": "execute_result"
    }
   ],
   "source": [
    "data.c_size"
   ]
  },
  {
   "cell_type": "code",
   "execution_count": 8,
   "id": "544ee85e-cb9b-4e9d-8881-a6339cc652b1",
   "metadata": {
    "tags": []
   },
   "outputs": [
    {
     "data": {
      "text/plain": [
       "BPG(l_size=[1], c_size=[1], sign_l_edge_index=[2538], c2l_msg_repeat_index=[31640], c2l_msg_scatter_index=[31640], l2c_msg_aggr_repeat_index=[17766], l2c_msg_aggr_scatter_index=[17766], l2c_msg_scatter_index=[8883], c_batch=[423], l_edge_index=[1269], c_edge_index=[1269])"
      ]
     },
     "execution_count": 8,
     "metadata": {},
     "output_type": "execute_result"
    }
   ],
   "source": [
    "data[0]"
   ]
  },
  {
   "cell_type": "markdown",
   "id": "ee80aba7-4ec4-4e4a-ad0c-16c8dfbcb63a",
   "metadata": {},
   "source": [
    "### Torch scatter"
   ]
  },
  {
   "cell_type": "code",
   "execution_count": 16,
   "id": "3757899f-0f9c-4505-be06-c9c49bdc6539",
   "metadata": {
    "tags": []
   },
   "outputs": [],
   "source": [
    "import torch\n",
    "\n",
    "src = torch.Tensor([[2, 0, 1, 4, 3], [0, 2, 1, 3, 4]])\n",
    "index = torch.tensor([[4, 5, 4, 2, 3], [0, 0, 2, 2, 1]])\n",
    "out = src.new_ones((2, 6))"
   ]
  },
  {
   "cell_type": "markdown",
   "id": "7df45ada-497e-4bce-9ee9-c9451d1ba48c",
   "metadata": {},
   "source": [
    "Expected:\n",
    "\n",
    "    out == tensor([[0., 0., 4., 3., 2., 0.],\n",
    "                   [2., 4., 3., 0., 0., 0.]])\n",
    "    argmax == tensor([[-1, -1,  3,  4,  0,  1],\n",
    "                      [ 1,  4,  3, -1, -1, -1]])"
   ]
  },
  {
   "cell_type": "code",
   "execution_count": 17,
   "id": "080e94ad-ea42-4ddc-8cec-6be3003f2fb6",
   "metadata": {
    "tags": []
   },
   "outputs": [
    {
     "data": {
      "text/plain": [
       "tensor([[1., 1., 4., 3., 2., 0.],\n",
       "        [2., 4., 3., 1., 1., 1.]])"
      ]
     },
     "execution_count": 17,
     "metadata": {},
     "output_type": "execute_result"
    }
   ],
   "source": [
    "out.scatter_reduce_(-1, index, src, reduce=\"amax\", include_self=False)"
   ]
  },
  {
   "cell_type": "code",
   "execution_count": 18,
   "id": "20cbbdaf-762a-48e8-93bd-437498f56e0e",
   "metadata": {
    "tags": []
   },
   "outputs": [
    {
     "data": {
      "text/plain": [
       "tensor([[1., 1., 4., 3., 2., 0.],\n",
       "        [2., 4., 3., 1., 1., 1.]])"
      ]
     },
     "execution_count": 18,
     "metadata": {},
     "output_type": "execute_result"
    }
   ],
   "source": [
    "out"
   ]
  },
  {
   "cell_type": "code",
   "execution_count": 19,
   "id": "f26bd9b0-ef63-4f51-bec8-7fcf6c262839",
   "metadata": {
    "tags": []
   },
   "outputs": [],
   "source": [
    "# scatter add\n",
    "src = torch.Tensor([[2, 0, 1, 4, 3], [0, 2, 1, 3, 4]])\n",
    "index = torch.tensor([[4, 5, 4, 2, 3], [0, 0, 2, 2, 1]])\n",
    "out = src.new_zeros((2, 6))"
   ]
  },
  {
   "cell_type": "markdown",
   "id": "68cba503-89c1-4cc5-9c09-71d9770e0591",
   "metadata": {},
   "source": [
    "Should get:\n",
    "\n",
    "    tensor([[0., 0., 4., 3., 3., 0.],\n",
    "            [2., 4., 4., 0., 0., 0.]])"
   ]
  },
  {
   "cell_type": "code",
   "execution_count": 20,
   "id": "fa2ed7c2-819a-42aa-b13f-2d846775def3",
   "metadata": {
    "tags": []
   },
   "outputs": [
    {
     "data": {
      "text/plain": [
       "tensor([[0., 0., 4., 3., 3., 0.],\n",
       "        [2., 4., 4., 0., 0., 0.]])"
      ]
     },
     "execution_count": 20,
     "metadata": {},
     "output_type": "execute_result"
    }
   ],
   "source": [
    "out.scatter_add_(-1, index, src)"
   ]
  },
  {
   "cell_type": "code",
   "execution_count": null,
   "id": "afbd0343-6b4f-4568-8c34-fc223c619c86",
   "metadata": {},
   "outputs": [],
   "source": []
  },
  {
   "cell_type": "code",
   "execution_count": null,
   "id": "3f68be66-b1ae-4346-a8c3-f35f4fe2a9ac",
   "metadata": {},
   "outputs": [],
   "source": []
  },
  {
   "cell_type": "markdown",
   "id": "a7146759-69f5-413a-b55e-e9635ad35ecc",
   "metadata": {},
   "source": [
    "### Test device -> [\"mps\" (Metal Programming Framework) for MacBook](https://github.com/karpathy/nanoGPT/issues/28)\n",
    "- https://pytorch.org/docs/stable/notes/mps.html"
   ]
  },
  {
   "cell_type": "code",
   "execution_count": 1,
   "id": "a3c0642b-ed2c-460d-81e4-aaa1a7e4c56b",
   "metadata": {
    "tags": []
   },
   "outputs": [
    {
     "data": {
      "text/plain": [
       "True"
      ]
     },
     "execution_count": 1,
     "metadata": {},
     "output_type": "execute_result"
    }
   ],
   "source": [
    "import torch\n",
    "torch.backends.mps.is_available()"
   ]
  },
  {
   "cell_type": "markdown",
   "id": "1f2fc165-709b-45da-a074-b92e86b136da",
   "metadata": {},
   "source": [
    "### Show available Cuda memory"
   ]
  },
  {
   "cell_type": "code",
   "execution_count": 3,
   "id": "0a4ff855-f336-41f2-a4ae-f8f7e6011d78",
   "metadata": {
    "tags": []
   },
   "outputs": [
    {
     "name": "stdout",
     "output_type": "stream",
     "text": [
      "NVIDIA GeForce RTX 3080 Laptop GPU\n",
      "Memory Usage:\n",
      "Allocated: 0.0 GB\n",
      "Cached:    0.0 GB\n",
      "Available: 16.0 GB\n"
     ]
    }
   ],
   "source": [
    "import torch\n",
    "\n",
    "# Select GPU device\n",
    "device = torch.device('cuda:0')\n",
    "\n",
    "# Get GPU memory info\n",
    "print(torch.cuda.get_device_name(device))\n",
    "print('Memory Usage:')\n",
    "print('Allocated:', round(torch.cuda.memory_allocated(device)/1024**3,1), 'GB')\n",
    "print('Cached:   ', round(torch.cuda.memory_reserved(device)/1024**3,1), 'GB')\n",
    "print('Available:', round(torch.cuda.get_device_properties(device).total_memory/1024**3,1), 'GB')"
   ]
  },
  {
   "cell_type": "markdown",
   "id": "3dca047a-f72f-4683-8572-c4fb9b746afc",
   "metadata": {},
   "source": [
    "### Test train"
   ]
  },
  {
   "cell_type": "code",
   "execution_count": 1,
   "id": "8d7d5db9-a231-4f30-b23d-81c7d645c435",
   "metadata": {
    "tags": []
   },
   "outputs": [],
   "source": [
    "from train_model import main as train_run"
   ]
  },
  {
   "cell_type": "code",
   "execution_count": 4,
   "id": "14e9557e-c665-460d-8457-cced0561e048",
   "metadata": {
    "tags": []
   },
   "outputs": [
    {
     "data": {
      "text/html": [
       "<pre style=\"white-space:pre;overflow-x:auto;line-height:normal;font-family:Menlo,'DejaVu Sans Mono',consolas,'Courier New',monospace\"><span style=\"color: #800080; text-decoration-color: #800080; font-weight: bold\">ArgOpts</span><span style=\"font-weight: bold\">(</span><span style=\"color: #808000; text-decoration-color: #808000\">train_dir</span>=<span style=\"color: #008000; text-decoration-color: #008000\">'/opt/files/maio2022/SAT/NSNet/SATSolving/sr/train'</span>, <span style=\"color: #808000; text-decoration-color: #808000\">restore</span>=<span style=\"color: #008000; text-decoration-color: #008000\">'runs/NSNet/checkpoints/model_2.pt'</span>,\n",
       "<span style=\"color: #808000; text-decoration-color: #808000\">valid_dir</span>=<span style=\"color: #008000; text-decoration-color: #008000\">'/opt/files/maio2022/SAT/NSNet/SATSolving/sr/valid'</span>, <span style=\"color: #808000; text-decoration-color: #808000\">task</span>=<span style=\"color: #008000; text-decoration-color: #008000\">'sat-solving'</span>, <span style=\"color: #808000; text-decoration-color: #808000\">model</span>=<span style=\"color: #008000; text-decoration-color: #008000\">'NSNet'</span>, <span style=\"color: #808000; text-decoration-color: #808000\">num_workers</span>=<span style=\"color: #008080; text-decoration-color: #008080; font-weight: bold\">4</span>, \n",
       "<span style=\"color: #808000; text-decoration-color: #808000\">batch_size</span>=<span style=\"color: #008080; text-decoration-color: #008080; font-weight: bold\">64</span>, <span style=\"color: #808000; text-decoration-color: #808000\">epochs</span>=<span style=\"color: #008080; text-decoration-color: #008080; font-weight: bold\">1</span>, <span style=\"color: #808000; text-decoration-color: #808000\">exp_id</span>=<span style=\"color: #008000; text-decoration-color: #008000\">'NSNet'</span>, <span style=\"color: #808000; text-decoration-color: #808000\">loss</span>=<span style=\"color: #008000; text-decoration-color: #008000\">'marginal'</span>, <span style=\"color: #808000; text-decoration-color: #808000\">train_size</span>=<span style=\"color: #800080; text-decoration-color: #800080; font-style: italic\">None</span><span style=\"font-weight: bold\">)</span>\n",
       "</pre>\n"
      ],
      "text/plain": [
       "\u001b[1;35mArgOpts\u001b[0m\u001b[1m(\u001b[0m\u001b[33mtrain_dir\u001b[0m=\u001b[32m'/opt/files/maio2022/SAT/NSNet/SATSolving/sr/train'\u001b[0m, \u001b[33mrestore\u001b[0m=\u001b[32m'runs/NSNet/checkpoints/model_2.pt'\u001b[0m,\n",
       "\u001b[33mvalid_dir\u001b[0m=\u001b[32m'/opt/files/maio2022/SAT/NSNet/SATSolving/sr/valid'\u001b[0m, \u001b[33mtask\u001b[0m=\u001b[32m'sat-solving'\u001b[0m, \u001b[33mmodel\u001b[0m=\u001b[32m'NSNet'\u001b[0m, \u001b[33mnum_workers\u001b[0m=\u001b[1;36m4\u001b[0m, \n",
       "\u001b[33mbatch_size\u001b[0m=\u001b[1;36m64\u001b[0m, \u001b[33mepochs\u001b[0m=\u001b[1;36m1\u001b[0m, \u001b[33mexp_id\u001b[0m=\u001b[32m'NSNet'\u001b[0m, \u001b[33mloss\u001b[0m=\u001b[32m'marginal'\u001b[0m, \u001b[33mtrain_size\u001b[0m=\u001b[3;35mNone\u001b[0m\u001b[1m)\u001b[0m\n"
      ]
     },
     "metadata": {},
     "output_type": "display_data"
    },
    {
     "data": {
      "text/plain": [
       "<torch.autograd.anomaly_mode.set_detect_anomaly at 0x7f901e8a13c0>"
      ]
     },
     "execution_count": 4,
     "metadata": {},
     "output_type": "execute_result"
    }
   ],
   "source": [
    "import torch\n",
    "from rich import print as printr\n",
    "from utils.options import ArgOpts              # custom-made\n",
    "import os\n",
    "\n",
    "# opts = ArgOpts(\n",
    "#     train_dir=\"/opt/files/maio2022/SAT/NSNet/SATSolving/3-sat/train\",\n",
    "#     epochs=1,\n",
    "# )\n",
    "\n",
    "opts = ArgOpts.get_default_train()\n",
    "opts.epochs = 2\n",
    "\n",
    "log_dir = os.path.join('runs', opts.exp_id)\n",
    "checkpoint_dir = os.path.join(log_dir, 'checkpoints')\n",
    "opts.set(\"restore\", os.path.join(checkpoint_dir, \"model_3.pt\"))\n",
    "\n",
    "printr(opts)\n",
    "\n",
    "torch.autograd.set_detect_anomaly(True)"
   ]
  },
  {
   "cell_type": "code",
   "execution_count": 5,
   "id": "09ceca96-4ade-4911-a602-723275c467dd",
   "metadata": {
    "tags": []
   },
   "outputs": [],
   "source": [
    "\"\"\"\n",
    "Training LR: 0.000100, Training loss: 1.405417\n",
    "Training accuracy: 0.010567\n",
    "Validating...\n",
    "Validating loss: 2.112922\n",
    "Validating accuracy: 0.000000\n",
    "---\n",
    "100%|##########| 469/469 [03:00<00:00,  2.59it/s]\n",
    "Training LR: 0.000100, Training loss: 2.121072\n",
    "Training accuracy: 0.000000\n",
    "Validating...\n",
    "Validating loss: 2.019921\n",
    "Validating accuracy: 0.000000\n",
    "\n",
    "\"\"\"\n",
    "\n",
    "train_run(opts=opts)"
   ]
  },
  {
   "cell_type": "code",
   "execution_count": null,
   "id": "31e2fe27-1c97-4a3d-83f7-827a02b1a83f",
   "metadata": {},
   "outputs": [],
   "source": []
  },
  {
   "cell_type": "code",
   "execution_count": null,
   "id": "fc640f69-52b8-4739-b59d-e0c777e1abb1",
   "metadata": {},
   "outputs": [],
   "source": []
  },
  {
   "cell_type": "markdown",
   "id": "9a5b40f1-b949-4752-86c4-85cf494b4fbc",
   "metadata": {
    "tags": []
   },
   "source": [
    "### Manual train loop - detect where NaNs come from"
   ]
  },
  {
   "cell_type": "code",
   "execution_count": 4,
   "id": "a17b5f72-2ebb-4011-830a-54de90eb991b",
   "metadata": {
    "tags": []
   },
   "outputs": [
    {
     "name": "stdout",
     "output_type": "stream",
     "text": [
      "Namespace(task='sat-solving', exp_id='NSNet', train_dir='/opt/files/maio2022/SAT/NSNet/SATSolving/sr/train', train_size=None, valid_dir='/opt/files/maio2022/SAT/NSNet/SATSolving/sr/valid', loss='marginal', restore=None, save_model_epochs=1, num_workers=4, batch_size=64, epochs=1, lr=0.0001, weight_dacay=1e-10, scheduler=None, lr_step_size=20, lr_factor=0.5, lr_patience=20, clip_norm=0.65, seed=0, model='NSNet', dim=64, n_rounds=10, n_mlp_layers=3, activation='relu', device='cuda')\n",
      "EPOCH #0\n",
      "Training...\n"
     ]
    },
    {
     "name": "stderr",
     "output_type": "stream",
     "text": [
      "  0%|                                                                                                               | 0/469 [00:00<?, ?it/s]/opt/miniconda3/envs/tf2/lib/python3.10/site-packages/torch/nn/functional.py:2916: UserWarning: reduction: 'mean' divides the total loss by both the batch size and the support size.'batchmean' divides only by the batch size, and aligns with the KL div math definition.'mean' will be changed to behave the same as 'batchmean' in the next major release.\n",
      "  warnings.warn(\n",
      "100%|█████████████████████████████████████████████████████████████████████████████████████████████████████| 469/469 [00:52<00:00,  8.95it/s]\n"
     ]
    },
    {
     "ename": "ZeroDivisionError",
     "evalue": "division by zero",
     "output_type": "error",
     "traceback": [
      "\u001b[0;31m---------------------------------------------------------------------------\u001b[0m",
      "\u001b[0;31mZeroDivisionError\u001b[0m                         Traceback (most recent call last)",
      "Cell \u001b[0;32mIn[4], line 176\u001b[0m\n\u001b[1;32m    168\u001b[0m     train_cnt \u001b[38;5;241m+\u001b[39m\u001b[38;5;241m=\u001b[39m sat_batch\u001b[38;5;241m.\u001b[39msum()\u001b[38;5;241m.\u001b[39mitem()\n\u001b[1;32m    170\u001b[0m     \u001b[38;5;66;03m# train_loss += loss.item() * batch_size\u001b[39;00m\n\u001b[1;32m    171\u001b[0m     \u001b[38;5;66;03m# train_tot += batch_size\u001b[39;00m\n\u001b[1;32m    172\u001b[0m     \u001b[38;5;66;03m# loss.backward()\u001b[39;00m\n\u001b[1;32m    173\u001b[0m     \u001b[38;5;66;03m# torch.nn.utils.clip_grad_norm_(model.parameters(), opts.clip_norm)\u001b[39;00m\n\u001b[1;32m    174\u001b[0m     \u001b[38;5;66;03m# optimizer.step()\u001b[39;00m\n\u001b[0;32m--> 176\u001b[0m train_loss \u001b[38;5;241m/\u001b[39m\u001b[38;5;241m=\u001b[39m train_tot\n\u001b[1;32m    177\u001b[0m \u001b[38;5;28mprint\u001b[39m(\u001b[38;5;124m'\u001b[39m\u001b[38;5;124mTraining LR: \u001b[39m\u001b[38;5;132;01m%f\u001b[39;00m\u001b[38;5;124m, Training loss: \u001b[39m\u001b[38;5;132;01m%f\u001b[39;00m\u001b[38;5;124m'\u001b[39m \u001b[38;5;241m%\u001b[39m (optimizer\u001b[38;5;241m.\u001b[39mparam_groups[\u001b[38;5;241m0\u001b[39m][\u001b[38;5;124m'\u001b[39m\u001b[38;5;124mlr\u001b[39m\u001b[38;5;124m'\u001b[39m], train_loss))\n\u001b[1;32m    179\u001b[0m train_acc \u001b[38;5;241m=\u001b[39m train_cnt \u001b[38;5;241m/\u001b[39m train_tot\n",
      "\u001b[0;31mZeroDivisionError\u001b[0m: division by zero"
     ]
    }
   ],
   "source": [
    "\n",
    "import torch\n",
    "import torch.nn as nn\n",
    "import torch.nn.functional as F\n",
    "import torch.optim as optim\n",
    "import os\n",
    "import sys\n",
    "import argparse\n",
    "import numpy as np\n",
    "import random\n",
    "import math\n",
    "\n",
    "from tqdm import tqdm\n",
    "\n",
    "from torch.optim.lr_scheduler import ReduceLROnPlateau, StepLR\n",
    "\n",
    "# pytorch-scatter ported to pytorch main\n",
    "# https://github.com/rusty1s/pytorch_scatter/issues/241#issuecomment-1336116049\n",
    "# from torch_scatter import scatter_sum\n",
    "# from torch.scatter_reduce import scatter_sum\n",
    "from utils.scatter import scatter_sum\n",
    "\n",
    "from utils.options import add_model_options\n",
    "from utils.logger import Logger\n",
    "from utils.dataloader import get_dataloader\n",
    "from utils.utils import safe_log\n",
    "from models.nsnet import NSNet\n",
    "from models.neurosat import NeuroSAT\n",
    "\n",
    "from utils.options import ArgOpts\n",
    "\n",
    "opts = None\n",
    "# def main(opts: ArgOpts = None):\n",
    "\n",
    "\n",
    "torch.cuda.empty_cache()            # CLEAR CUDA MEMORY??\n",
    "\n",
    "torch.autograd.set_detect_anomaly(True)\n",
    "\n",
    "\n",
    "# opts = opts or ArgOpts()            # empty -> uses defaults passed below\n",
    "opts = ArgOpts(\n",
    "    train_dir=\"/opt/files/maio2022/SAT/NSNet/SATSolving/3-sat/train\",\n",
    "    epochs=1,\n",
    ")\n",
    "\n",
    "opts = ArgOpts.get_default_train()\n",
    "opts.epochs = 1\n",
    "\n",
    "\n",
    "parser = argparse.ArgumentParser()\n",
    "# parser.add_argument('task', type=str, choices=['model-counting', 'sat-solving'], help='Experiment task')\n",
    "# parser.add_argument('exp_id', type=str, help='Experiment id')\n",
    "# parser.add_argument('train_dir', type=str, help='Directory with training data')\n",
    "parser.add_argument(\n",
    "    '--task', type=str, choices=['model-counting', 'sat-solving'], help='Experiment task',\n",
    "    default=opts.get(\"task\", \"sat-solving\"))\n",
    "parser.add_argument(\n",
    "    '--exp_id', type=str, help='Experiment id',\n",
    "    default=opts.get(\"exp_id\", \"NSNet\"))\n",
    "parser.add_argument(\n",
    "    '--train_dir', type=str, help='Directory with training data',\n",
    "    default=opts.get(\"train_dir\", \"/opt/files/maio2022/SAT/NSNet/SATSolving/sr/train\"))\n",
    "\n",
    "parser.add_argument('--train_size', type=int, default=opts.get(\"train_size\", None), help='Number of training data')\n",
    "parser.add_argument('--valid_dir', type=str, default=opts.get(\"valid_dir\", None), help='Directory with validating data')\n",
    "parser.add_argument('--loss', type=str, choices=['assignment', 'marginal'], default=opts.get(\"loss\", 'marginal'), help='Loss type for SAT solving')\n",
    "parser.add_argument('--restore', type=str, default=opts.get(\"restore\", None), help='Continue training from a checkpoint')\n",
    "parser.add_argument('--save_model_epochs', type=int, default=opts.get(\"save_model_epochs\", 1), help='Number of epochs between model savings')\n",
    "parser.add_argument('--num_workers', type=int, default=opts.get(\"num_workers\", 8), help='Number of workers for data loading')\n",
    "parser.add_argument('--batch_size', type=int, default=opts.get(\"batch_size\", 128), help='Batch size')\n",
    "parser.add_argument('--epochs', type=int, default=opts.get(\"epochs\", 200), help='Number of epochs during training')\n",
    "parser.add_argument('--lr', type=float, default=opts.get(\"lr\", 1e-4), help='Learning rate')\n",
    "parser.add_argument('--weight_dacay', type=float, default=opts.get(\"weight_decay\", 1e-10), help='L2 regularization weight')\n",
    "parser.add_argument('--scheduler', type=str, default=opts.get(\"scheduler\", None), help='Scheduler')\n",
    "parser.add_argument('--lr_step_size', type=int, default=opts.get(\"lr_step_size\", 20), help='Learning rate step size')\n",
    "parser.add_argument('--lr_factor', type=float, default=opts.get(\"lr_factor\", 0.5), help='Learning rate factor')\n",
    "parser.add_argument('--lr_patience', type=int, default=opts.get(\"lr_patience\", 20), help='Learning rate patience')\n",
    "parser.add_argument('--clip_norm', type=float, default=opts.get(\"clip_norm\", 0.65), help='Clipping norm')\n",
    "parser.add_argument('--seed', type=int, default=opts.get(\"seed\", 0), help='Random seed')\n",
    "\n",
    "add_model_options(parser, opts=opts)\n",
    "\n",
    "# opts = parser.parse_args()\n",
    "# Parse arguments when using Jupyter Notebook: https://stackoverflow.com/a/72670647/11750716\n",
    "opts, _unknown = parser.parse_known_args()\n",
    "\n",
    "torch.manual_seed(opts.seed)\n",
    "torch.cuda.manual_seed(opts.seed)\n",
    "torch.cuda.manual_seed_all(opts.seed)\n",
    "torch.backends.cudnn.deterministic = True\n",
    "torch.backends.cudnn.benchmark = False\n",
    "np.random.seed(opts.seed)\n",
    "random.seed(opts.seed)\n",
    "\n",
    "# opts.log_dir = os.path.join('runs', opts.exp_id)\n",
    "# opts.checkpoint_dir = os.path.join(opts.log_dir, 'checkpoints')\n",
    "\n",
    "# os.makedirs(opts.log_dir, exist_ok=True)\n",
    "# os.makedirs(opts.checkpoint_dir, exist_ok=True)\n",
    "\n",
    "# opts.log = os.path.join(opts.log_dir, 'log.txt')\n",
    "# sys.stdout = Logger(opts.log, sys.stdout)\n",
    "# sys.stderr = Logger(opts.log, sys.stderr)\n",
    "\n",
    "opts.device = \"cpu\"\n",
    "if torch.cuda.is_available():\n",
    "    opts.device = \"cuda\"\n",
    "elif torch.backends.mps.is_available():\n",
    "    # Check that MPS is available (MacBook with M1 / M2 chip)\n",
    "    # https://pytorch.org/docs/stable/notes/mps.html\n",
    "    opts.device = \"mps\"\n",
    "\n",
    "# opts.device = torch.device('cuda' if torch.cuda.is_available() else 'cpu')\n",
    "print(opts)\n",
    "\n",
    "models = {\n",
    "    'NSNet': NSNet,\n",
    "    'NeuroSAT': NeuroSAT,\n",
    "}\n",
    "\n",
    "\n",
    "with torch.no_grad():\n",
    "\n",
    "    model = models[opts.model](opts)\n",
    "    model.to(opts.device)\n",
    "\n",
    "    optimizer = optim.Adam(model.parameters(), lr=opts.lr, weight_decay=opts.weight_dacay)\n",
    "    train_loader = get_dataloader(opts.train_dir, opts, 'train', opts.train_size)\n",
    "\n",
    "    best_loss = float('inf')\n",
    "\n",
    "    start_epoch = 0\n",
    "\n",
    "    for epoch in range(start_epoch, start_epoch + opts.epochs):\n",
    "        print('EPOCH #%d' % epoch)\n",
    "        print('Training...')\n",
    "        train_loss = 0\n",
    "        train_tot = 0\n",
    "        train_rmse = 0\n",
    "        train_cnt = 0\n",
    "\n",
    "        for data in tqdm(train_loader):\n",
    "\n",
    "            data = data.to(opts.device)\n",
    "            batch_size = data.c_size.shape[0]\n",
    "\n",
    "            data_copy = data.clone()\n",
    "\n",
    "            v_prob = model(data)\n",
    "\n",
    "            if v_prob.isnan().sum() > 0:\n",
    "                raise ValueError(\"WE HAVE NANS IN PRED\")\n",
    "\n",
    "            c_size = data.c_size.sum().item()\n",
    "            c_batch = data.c_batch\n",
    "            l_edge_index = data.l_edge_index\n",
    "            c_edge_index = data.c_edge_index\n",
    "\n",
    "            preds = v_prob\n",
    "            labels = data.y\n",
    "            labels = torch.stack([labels, 1-labels], dim=1)\n",
    "            loss = F.kl_div(safe_log(preds), labels)\n",
    "\n",
    "            v_assign = (v_prob > 0.5).float()\n",
    "            l_assign = v_assign.reshape(-1)\n",
    "            c_sat = torch.clamp(scatter_sum(l_assign[l_edge_index], c_edge_index, dim=0, dim_size=c_size), max=1)\n",
    "            sat_batch = (scatter_sum(c_sat, c_batch, dim=0, dim_size=batch_size) == data.c_size).float()\n",
    "            train_cnt += sat_batch.sum().item()\n",
    "\n",
    "            # train_loss += loss.item() * batch_size\n",
    "            # train_tot += batch_size\n",
    "            # loss.backward()\n",
    "            # torch.nn.utils.clip_grad_norm_(model.parameters(), opts.clip_norm)\n",
    "            # optimizer.step()\n",
    "\n",
    "        train_loss /= train_tot\n",
    "        print('Training LR: %f, Training loss: %f' % (optimizer.param_groups[0]['lr'], train_loss))\n",
    "\n",
    "        train_acc = train_cnt / train_tot\n",
    "        print('Training accuracy: %f' % train_acc)\n",
    "\n"
   ]
  },
  {
   "cell_type": "code",
   "execution_count": 2,
   "id": "00aeae3c-6d36-4999-88e5-535d7dfab8b0",
   "metadata": {
    "tags": []
   },
   "outputs": [],
   "source": []
  },
  {
   "cell_type": "code",
   "execution_count": null,
   "id": "0d6718a4-f81f-43f6-b0e7-3189d6621cd2",
   "metadata": {},
   "outputs": [],
   "source": []
  },
  {
   "cell_type": "code",
   "execution_count": null,
   "id": "07b5d2b9-401a-495c-be2a-a04561c7174c",
   "metadata": {},
   "outputs": [],
   "source": []
  },
  {
   "cell_type": "code",
   "execution_count": null,
   "id": "588f420c-b801-42f6-aa16-4937fff6d996",
   "metadata": {},
   "outputs": [],
   "source": []
  },
  {
   "cell_type": "code",
   "execution_count": null,
   "id": "66009037-0630-4d6f-ad19-6b5e20dffe56",
   "metadata": {},
   "outputs": [],
   "source": []
  },
  {
   "cell_type": "code",
   "execution_count": null,
   "id": "702fbc8c-33f9-4380-817d-7f02ca445dac",
   "metadata": {},
   "outputs": [],
   "source": []
  }
 ],
 "metadata": {
  "kernelspec": {
   "display_name": "Python 3 (ipykernel)",
   "language": "python",
   "name": "python3"
  },
  "language_info": {
   "codemirror_mode": {
    "name": "ipython",
    "version": 3
   },
   "file_extension": ".py",
   "mimetype": "text/x-python",
   "name": "python",
   "nbconvert_exporter": "python",
   "pygments_lexer": "ipython3",
   "version": "3.10.9"
  }
 },
 "nbformat": 4,
 "nbformat_minor": 5
}
